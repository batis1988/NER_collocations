{
 "cells": [
  {
   "cell_type": "markdown",
   "metadata": {},
   "source": [
    "# Demonstration of Collocation extraction\n",
    "author: Anton Shkvarskii\n",
    "\n",
    "Goal: to find out collocations consisted from 2 to 3 words related with sought or determined named entity. This example provides how it goes with 3 stages:\n",
    "- Text preprocessing (remove stopwords, numbers, emails etc.)\n",
    "- Words and collocations vector represintation\n",
    "- Similarity search to target NER (\"ремонт\")\n",
    "- Thresholding unrelevant results"
   ]
  },
  {
   "cell_type": "code",
   "execution_count": 5,
   "metadata": {},
   "outputs": [],
   "source": [
    "# load libs \n",
    "from utility.text_preprocessing import TextPreprocesser, NGramCheck\n",
    "import fasttext"
   ]
  },
  {
   "cell_type": "code",
   "execution_count": 17,
   "metadata": {},
   "outputs": [],
   "source": [
    "# create some custom corpus with written text manually\n",
    "# as you can see, one sentence has no relevance to the target term\n",
    "raw_corpus = [\n",
    "    \"Ремонт квартиры начался не сразу и с замены старых окон на современные стеклопакеты по высокой стоимости.\", \n",
    "\"Затем были выровнены стены и поклеены новые обои.\", \n",
    "\"На полу уложили паркет, который придаёт интерьеру уют.\", \n",
    "\"Кухонный гарнитур выглядел непривлекательно и был заменен на более функциональный и стильный.\", \n",
    "\"Во дворе 1 растет 3трава!\", \n",
    "\"В завершение ремонта установили новую сантехнику и освещение.\"\n",
    "]\n",
    "# fasttext binnary for russian language\n",
    "model_path = \"./model/pretrained/fasttext/cc.ru.300.bin\""
   ]
  },
  {
   "cell_type": "code",
   "execution_count": 18,
   "metadata": {},
   "outputs": [
    {
     "name": "stdout",
     "output_type": "stream",
     "text": [
      "Model: _FastText\n",
      "Corpus:\n",
      "завершение ремонта установили новую сантехнику освещение\n",
      "ремонт квартиры начался сразу замены старых окон современные стеклопакеты высокой стоимости\n",
      "полу уложили паркет который придаёт интерьеру уют\n",
      "кухонный гарнитур выглядел непривлекательно заменен функциональный стильный\n",
      "затем выровнены стены поклеены новые обои\n",
      "дворе растет трава\n"
     ]
    }
   ],
   "source": [
    "corpus = TextPreprocesser(raw_corpus=raw_corpus, n_grams=2)\n",
    "model = fasttext.load_model(model_path)\n",
    "print(f\"Model: {model.__class__.__name__}\")\n",
    "print(\"Corpus:\")\n",
    "for sent in corpus.clean_corpus:\n",
    "    print(sent)"
   ]
  },
  {
   "cell_type": "code",
   "execution_count": 24,
   "metadata": {},
   "outputs": [
    {
     "data": {
      "text/plain": [
       "defaultdict(int,\n",
       "            {0: {'завершение ремонта': 0.29325562074263395,\n",
       "              'ремонта установили': 0.26904228264650165,\n",
       "              'новую сантехнику': 0.2904794842609984,\n",
       "              'сантехнику освещение': 0.3233703852555032},\n",
       "             1: {'ремонт квартиры': 0.3813256772412644,\n",
       "              'квартиры начался': 0.21881538406804932,\n",
       "              'сразу замены': 0.2656339670055069,\n",
       "              'замены старых': 0.2834914173520114,\n",
       "              'старых окон': 0.30490107801461974,\n",
       "              'современные стеклопакеты': 0.21934028499411284,\n",
       "              'стеклопакеты высокой': 0.24345522321716012},\n",
       "             2: {'придаёт интерьеру': 0.21152428426661588,\n",
       "              'интерьеру уют': 0.245418491929159},\n",
       "             3: {'кухонный гарнитур': 0.2857415515748554,\n",
       "              'заменен функциональный': 0.3077061324809371,\n",
       "              'функциональный стильный': 0.25635729820450204},\n",
       "             4: {'затем выровнены': 0.2180654582249512,\n",
       "              'стены поклеены': 0.2763383287379596,\n",
       "              'поклеены новые': 0.2460854627332157},\n",
       "             5: {}})"
      ]
     },
     "execution_count": 24,
     "metadata": {},
     "output_type": "execute_result"
    }
   ],
   "source": [
    "score = NGramCheck(corpus.ngrams, ner=\"ремонт\", model=model)\n",
    "score.get_collocations(threshold=0.21)"
   ]
  },
  {
   "cell_type": "markdown",
   "metadata": {},
   "source": [
    "Actually, you can replace initial entity to any you want."
   ]
  },
  {
   "cell_type": "code",
   "execution_count": 25,
   "metadata": {},
   "outputs": [
    {
     "data": {
      "text/plain": [
       "defaultdict(int,\n",
       "            {0: {},\n",
       "             1: {},\n",
       "             2: {},\n",
       "             3: {},\n",
       "             4: {},\n",
       "             5: {'растет трава': 0.3174456762650938}})"
      ]
     },
     "execution_count": 25,
     "metadata": {},
     "output_type": "execute_result"
    }
   ],
   "source": [
    "another_score = NGramCheck(corpus.ngrams, ner=\"природа\", model=model)\n",
    "another_score.get_collocations(threshold=0.21)"
   ]
  },
  {
   "cell_type": "markdown",
   "metadata": {},
   "source": [
    "So, all of the relevant sentences are not shown this time"
   ]
  }
 ],
 "metadata": {
  "kernelspec": {
   "display_name": "venv",
   "language": "python",
   "name": "python3"
  },
  "language_info": {
   "codemirror_mode": {
    "name": "ipython",
    "version": 3
   },
   "file_extension": ".py",
   "mimetype": "text/x-python",
   "name": "python",
   "nbconvert_exporter": "python",
   "pygments_lexer": "ipython3",
   "version": "3.12.0"
  }
 },
 "nbformat": 4,
 "nbformat_minor": 2
}
