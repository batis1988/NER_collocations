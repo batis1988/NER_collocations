{
 "cells": [
  {
   "cell_type": "code",
   "execution_count": 20,
   "metadata": {},
   "outputs": [],
   "source": [
    "import fasttext\n",
    "import pickle\n",
    "from utility.similarities import VectorSimilarities"
   ]
  },
  {
   "cell_type": "code",
   "execution_count": 38,
   "metadata": {},
   "outputs": [
    {
     "name": "stderr",
     "output_type": "stream",
     "text": [
      "Read 0M words\n",
      "Number of words:  41614\n",
      "Number of labels: 0\n",
      "Progress: 100.0% words/sec/thread: 5515050 lr:  0.000000 avg.loss:       nan ETA:   0h 0m 0s\n"
     ]
    }
   ],
   "source": [
    "corpus_path = \"./data/raw_text.txt\"\n",
    "ft_vec = \"./model/pretrained/fasttext/cc.ru.300.vec\"\n",
    "\n",
    "# Fine-tune the model on your dataset\n",
    "fine_tuned_model = fasttext.FastText.train_supervised(\n",
    "    input=corpus_path,\n",
    "    epoch=5,               # Number of epochs\n",
    "    lr=0.001,              # Learning rate\n",
    "    dim=300,               # Dimension of word vectors\n",
    "    wordNgrams=3,          # Use word n-grams to improve accuracy\n",
    "    bucket=2000000,        # Number of buckets for hashing n-grams\n",
    "    minn=2,                # Min length of char n-grams\n",
    "    maxn=5,                # Max length of char n-grams\n",
    "    verbose=10, \n",
    "    pretrainedVectors=ft_vec  # Path to pretrained vectors\n",
    ")"
   ]
  },
  {
   "cell_type": "code",
   "execution_count": 41,
   "metadata": {},
   "outputs": [],
   "source": [
    "fine_tuned_model.save_model(\"./model/pretrained/ft_finetuned/ft_finetuned.bin\")"
   ]
  }
 ],
 "metadata": {
  "kernelspec": {
   "display_name": "venv",
   "language": "python",
   "name": "python3"
  },
  "language_info": {
   "codemirror_mode": {
    "name": "ipython",
    "version": 3
   },
   "file_extension": ".py",
   "mimetype": "text/x-python",
   "name": "python",
   "nbconvert_exporter": "python",
   "pygments_lexer": "ipython3",
   "version": "3.12.0"
  }
 },
 "nbformat": 4,
 "nbformat_minor": 2
}
